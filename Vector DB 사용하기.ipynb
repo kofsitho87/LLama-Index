{
 "cells": [
  {
   "cell_type": "markdown",
   "metadata": {},
   "source": [
    "# Using Vector db"
   ]
  },
  {
   "cell_type": "markdown",
   "metadata": {},
   "source": [
    "RAG(검색 강화 생성) 시스템에서 벡터 데이터베이스는 매우 중요한 역할을 합니다. 이들은 고차원 벡터 데이터의 효율적인 저장, 관리, 그리고 색인을 제공하여, 다른 구성 요소와의 원활한 통합을 기반으로 하여 빠르고 정확한 정보 검색을 가능하게 합니다. 여기 RAG에서 벡터 데이터베이스의 역할과 중요성을 설명하는 몇 가지 핵심 포인트가 있습니다:\n",
    "\n",
    "효율적인 지식 검색: 벡터 데이터베이스는 시스템에서 효율적인 지식 검색의 기반을 제공합니다. 이들은 학습과 정확한 응답 생성에 검색을 많이 의존하는 RAG 모델에 필수적인 고차원 데이터를 저장하고 관리합니다.\n",
    "\n",
    "정보 검색 속도 향상: 벡터 데이터베이스는 속도와 효율성에서 뛰어나며, 빠른 검색이 정확한 응답 생성의 핵심인 RAG 모델과 같은 시스템에서 없어서는 안 될 존재입니다.\n",
    "\n",
    "정확성 향상: 관련 데이터 포인트를 정밀하게 연결함으로써, 벡터 데이터베이스는 모델이 사용자 질문에 맞춤화된 정확하고 문맥적으로 풍부한 답변을 생성할 수 있게 하여, RAG 응답의 전반적인 정확성을 향상시킵니다.\n",
    "\n",
    "학습 맞춤화: 벡터 데이터베이스는 차원적 유연성을 제공하여, 진화하는 요구 사항과 증가하는 벡터 데이터 양을 처리할 수 있도록 맞춤형 학습 경험을 제공할 수 있습니다.\n",
    "\n",
    "다른 구성 요소와의 통합: 벡터 데이터베이스는 RAG 모델과 생성적 AI 응용 프로그램과 같은 다른 구성 요소와의 원활한 통합을 통해 전례 없는 속도로 정확하고 개인화된 응답을 제공합니다.\n",
    "\n",
    "요약하자면, 벡터 데이터베이스는 RAG 시스템의 필수적인 구성 요소입니다. 고차원 데이터의 효율적인 저장 및 검색을 제공하고, 속도와 정확성을 통해 모델 성능을 향상시키며, 맞춤형 학습 경험을 지원합니다."
   ]
  },
  {
   "cell_type": "markdown",
   "metadata": {},
   "source": [
    "전통적인 키워드 기반의 검색 방식은 사용자의 질문에 대한 정확한 답변을 찾아내는 데 한계가 있다 보니 사용자의 질문을 더 깊이 이해하고, 대용량 데이터에서 정확한 답변을 추출할 수 있는 기술의 필요성이 높아지고 있습니다.\n",
    " \n",
    "\n",
    "이러한 고민을 해결하고자 LLM과 벡터 임베딩이라는 두 가지 기술이 주목받고 있습니다.  \n",
    "- LLM은 텍스트 데이터의 패턴을 깊게 파악하여 사용자의 질문에 대한 연관된 답변을 생성하거나 추출하는 데 탁월한 성능을 보입니다. \n",
    "- 벡터 임베딩은 단어나 문장, 심지어 문서 전체의 의미를 벡터 형태로 표현하는 기술로, 이를 통해 문서 간의 유사성을 빠르게 계산할 수 있습니다.\n",
    " \n",
    "이 두 기술의 결합은 RAG (Retrieval Augmented Generation) 기술로 연결됩니다.  \n",
    "사용자의 질문을 벡터로 변환하고, 이를 기반으로 데이터베이스 내에서 가장 연관된 문서나 정보를 찾아내는 것을 의미하는데요, LLM은 그 후 이 문서들을 기반으로 사용자의 질문에 가장 적절한 답변을 생성하게 됩니다."
   ]
  },
  {
   "cell_type": "markdown",
   "metadata": {},
   "source": []
  },
  {
   "cell_type": "markdown",
   "metadata": {},
   "source": [
    "## Introduction to Vector Databases\n",
    "\n",
    "Vector databases play a crucial role in RAG (Retrieval Augmented Generation) systems by providing efficient storage, management, and indexing of high-dimensional vector data. \n",
    "\n",
    "They form the foundation for seamless integration with other components, enabling quick and precise information retrieval. Here are some key points explaining the role and importance of vector databases in RAG:\n",
    "Efficient Knowledge Retrieval: Vector databases act as the backbone for efficient knowledge retrieval in systems.  \n",
    "They store and manage high-dimensional data, which is essential for RAG models that rely heavily on retrieval for learning and generating accurate responses"
   ]
  },
  {
   "cell_type": "markdown",
   "metadata": {},
   "source": [
    "Traditional keyword-based search methods have limitations in finding accurate answers to users' questions.\n",
    "So new method is needed to better understand what users are asking and to find accurate answers in large amounts of data\n",
    " \n",
    "\n",
    "To address this challenge, LLM and vector embedding are key technology.  \n",
    "- LLM performs well in generating or extracting related answers to users' questions by deeply grasping patterns in textual data. \n",
    "- Vector embedding is a technique for representing a word or sentence, or even the meaning of a document as a whole, in vector form, which allows us to quickly compute similarities between documents.\n",
    " \n",
    "The combination of these two technologies is linked by Retrieval Augmented Generation (RAG). \n",
    "It means converting a user's question into a vector and finding the most relevant documents or information in the database, which LLM then generates the most appropriate answer to the user's question."
   ]
  },
  {
   "cell_type": "markdown",
   "metadata": {},
   "source": [
    "## Understanding Vector Databases\n",
    "\n",
    "1. Definition and Purpose\n",
    "Vector databases are a type of database that store and manage unstructured data, such as text, images, or audio, in vector embeddings (high-dimensional vectors) to make it easier to search and query.  \n",
    "They are designed to handle complex data types and perform high-speed computations, making them well-suited for tasks involving similarity searches and machine learning tasks\n",
    "\n",
    "2. How Vector Databases Differ from Traditional Databases\n",
    "- Data Representation: Traditional databases store data in tables, rows, and columns, while vector databases store data in vectors, which are mathematical representations of data points\n",
    "\n",
    "- Querying Approach: Traditional databases often rely on exact matching queries based on keys or specific attribute values, while vector databases use similarity-based queries, where the goal is to find vectors that are most similar to a given query vector\n",
    "\n",
    "- Optimization Techniques: Vector databases employ specialized algorithms for Approximate Nearest Neighbor (ANN) search, which optimize the search process. These algorithms may involve techniques such as hashing, quantization, or graph-based search\n",
    "\n",
    "- Use Cases: Vector databases are often used in applications involving similarity matching, recommendation systems, image recognition, natural language processing, and other tasks that require vector-based operations"
   ]
  },
  {
   "cell_type": "code",
   "execution_count": null,
   "metadata": {},
   "outputs": [],
   "source": [
    "!pip install llama-index"
   ]
  },
  {
   "cell_type": "markdown",
   "metadata": {},
   "source": [
    "## Getting Started with Sample Techcrunch Articles\n",
    "\n",
    "In this tutorial, we will use the [techcrunch](https://techcrunch.com/) dataset to illustrate how to use the RAG system. The dataset contains 10,000 techcrunch articles, each of which contains 10,000 words. The goal of this tutorial is to learn how to use the RAG system to retrieve the most relevant articles for a given question."
   ]
  },
  {
   "cell_type": "markdown",
   "metadata": {},
   "source": [
    "#### Download articles\n",
    "> TechCrunch Article"
   ]
  },
  {
   "cell_type": "code",
   "execution_count": 1,
   "metadata": {},
   "outputs": [],
   "source": [
    "!wget -q https://github.com/kairess/toy-datasets/raw/master/techcrunch-articles.zip\n",
    "!unzip -q techcrunch-articles.zip -d articles"
   ]
  },
  {
   "cell_type": "code",
   "execution_count": 2,
   "metadata": {},
   "outputs": [
    {
     "name": "stdout",
     "output_type": "stream",
     "text": [
      "Count of Techcrunch articles: 21\n"
     ]
    }
   ],
   "source": [
    "from llama_index.core import SimpleDirectoryReader\n",
    "\n",
    "reader = SimpleDirectoryReader(input_dir=\"articles\")\n",
    "docs = reader.load_data()\n",
    "\n",
    "print(f\"Count of Techcrunch articles: {len(docs)}\")"
   ]
  },
  {
   "cell_type": "markdown",
   "metadata": {},
   "source": [
    "### 1. Simple Vector Store"
   ]
  },
  {
   "cell_type": "code",
   "execution_count": 5,
   "metadata": {},
   "outputs": [
    {
     "data": {
      "application/vnd.jupyter.widget-view+json": {
       "model_id": "597d9f0f50e540b195eb35acdcf95dbf",
       "version_major": 2,
       "version_minor": 0
      },
      "text/plain": [
       "Parsing nodes:   0%|          | 0/21 [00:00<?, ?it/s]"
      ]
     },
     "metadata": {},
     "output_type": "display_data"
    },
    {
     "data": {
      "application/vnd.jupyter.widget-view+json": {
       "model_id": "dff9a3a1e0c4488d9967142e6b16f6c8",
       "version_major": 2,
       "version_minor": 0
      },
      "text/plain": [
       "Generating embeddings:   0%|          | 0/51 [00:00<?, ?it/s]"
      ]
     },
     "metadata": {},
     "output_type": "display_data"
    },
    {
     "name": "stdout",
     "output_type": "stream",
     "text": [
      "INFO:httpx:HTTP Request: POST https://api.openai.com/v1/embeddings \"HTTP/1.1 200 OK\"\n",
      "HTTP Request: POST https://api.openai.com/v1/embeddings \"HTTP/1.1 200 OK\"\n"
     ]
    }
   ],
   "source": [
    "from llama_index.core import VectorStoreIndex\n",
    "\n",
    "\n",
    "# 1. Load VectorStoreIndex directly from Documents\n",
    "index = VectorStoreIndex.from_documents(docs, show_progress=True)"
   ]
  },
  {
   "cell_type": "markdown",
   "metadata": {},
   "source": [
    "#### Persist techcrunch articles in Simple VectorStore"
   ]
  },
  {
   "cell_type": "code",
   "execution_count": 6,
   "metadata": {},
   "outputs": [],
   "source": [
    "index.set_index_id(\"techcrunch_articles\")\n",
    "index.storage_context.persist(\"./stroage/simple\")"
   ]
  },
  {
   "cell_type": "markdown",
   "metadata": {},
   "source": [
    "#### Load articles from Simple VectorStore"
   ]
  },
  {
   "cell_type": "code",
   "execution_count": 8,
   "metadata": {},
   "outputs": [
    {
     "name": "stdout",
     "output_type": "stream",
     "text": [
      "INFO:llama_index.core.indices.loading:Loading indices with ids: ['techcrunch_articles']\n",
      "Loading indices with ids: ['techcrunch_articles']\n"
     ]
    }
   ],
   "source": [
    "from llama_index.core import StorageContext, load_index_from_storage\n",
    "\n",
    "# rebuild storage context\n",
    "storage_context = StorageContext.from_defaults(persist_dir=\"./storage/simple\")\n",
    "\n",
    "# load index\n",
    "simple_vc_index = load_index_from_storage(storage_context, index_id=\"techcrunch_articles\")"
   ]
  },
  {
   "cell_type": "markdown",
   "metadata": {},
   "source": [
    "### 2. Chroma: Simplifying Vector Database Operations"
   ]
  },
  {
   "cell_type": "markdown",
   "metadata": {},
   "source": [
    "Chroma is a vector database that is particularly suited for RAG (Retrieval Augmented Generation) systems due to its focus on simplifying the development of large language model (LLM) applications. Chroma is an open-source embedding database that provides developers with a highly-scalable and efficient solution for storing, searching, and retrieving high-dimensional vectors\n",
    "\n",
    "It is known for its flexibility, allowing deployment on the cloud or as an on-premise solution, and supports multiple data types and formats, making it suitable for a wide range of applications\n",
    "\n",
    "When comparing Chroma to other vector databases used in RAG systems, it is important to consider their specific strengths and trade-offs. Chroma excels in its flexibility and scalability, making it a popular choice for audio-based search engines, music recommendations, and other audio-related use cases\n",
    "\n",
    "On the other hand, Pinecone, another vector database, is known for its simple, intuitive interface and extensive support for high-dimensional vector databases, making it suitable for various use cases, including similarity search, recommendation systems, personalization, and semantic search\n",
    "\n",
    "In terms of scalability, Chroma and Pinecone both support large volumes of high-dimensional data and efficient search performance\n",
    "\n",
    "However, Pinecone is a fully-managed service, which means it can't be run locally, while Chroma and other vector databases like Milvus, Weaviate, Faiss, Elasticsearch, and Qdrant can be run locally\n",
    "\n",
    "When choosing the right vector database for your specific needs, consider factors such as scalability, performance, flexibility, ease of use, reliability, and deployment options\n",
    "Each vector database has its own strengths and trade-offs, so it's essential to evaluate your objectives and choose a vector database that best meets your requirements."
   ]
  },
  {
   "cell_type": "code",
   "execution_count": null,
   "metadata": {},
   "outputs": [],
   "source": [
    "# install chromadb\n",
    "\n",
    "!pip install chromadb"
   ]
  },
  {
   "cell_type": "markdown",
   "metadata": {},
   "source": [
    "#### Persist techcrunch articles in Chroma VectorStore"
   ]
  },
  {
   "cell_type": "code",
   "execution_count": 10,
   "metadata": {},
   "outputs": [
    {
     "name": "stdout",
     "output_type": "stream",
     "text": [
      "INFO:chromadb.telemetry.product.posthog:Anonymized telemetry enabled. See                     https://docs.trychroma.com/telemetry for more information.\n",
      "Anonymized telemetry enabled. See                     https://docs.trychroma.com/telemetry for more information.\n"
     ]
    },
    {
     "data": {
      "application/vnd.jupyter.widget-view+json": {
       "model_id": "ee1355a4bb794501b933a304a7e48784",
       "version_major": 2,
       "version_minor": 0
      },
      "text/plain": [
       "Parsing nodes:   0%|          | 0/21 [00:00<?, ?it/s]"
      ]
     },
     "metadata": {},
     "output_type": "display_data"
    },
    {
     "data": {
      "application/vnd.jupyter.widget-view+json": {
       "model_id": "51e43523a83a4ca0b780c0ca5029e33f",
       "version_major": 2,
       "version_minor": 0
      },
      "text/plain": [
       "Generating embeddings:   0%|          | 0/51 [00:00<?, ?it/s]"
      ]
     },
     "metadata": {},
     "output_type": "display_data"
    },
    {
     "name": "stdout",
     "output_type": "stream",
     "text": [
      "INFO:httpx:HTTP Request: POST https://api.openai.com/v1/embeddings \"HTTP/1.1 200 OK\"\n",
      "HTTP Request: POST https://api.openai.com/v1/embeddings \"HTTP/1.1 200 OK\"\n"
     ]
    }
   ],
   "source": [
    "import chromadb\n",
    "from llama_index.core import VectorStoreIndex\n",
    "from llama_index.vector_stores.chroma import ChromaVectorStore\n",
    "from llama_index.core import StorageContext\n",
    "\n",
    "\"\"\" SAVE TO LOCAL\"\"\"\n",
    "db = chromadb.PersistentClient(path=\"./storage/chroma\")\n",
    "chroma_collection = db.get_or_create_collection(\"techcrunch_articles\")\n",
    "\n",
    "vector_store = ChromaVectorStore(chroma_collection=chroma_collection)\n",
    "storage_context = StorageContext.from_defaults(vector_store=vector_store)\n",
    "\n",
    "chroma_index = VectorStoreIndex.from_documents(docs, storage_context=storage_context, show_progress=True)"
   ]
  },
  {
   "cell_type": "markdown",
   "metadata": {},
   "source": [
    "##### Load articles from Chroma VectorStore"
   ]
  },
  {
   "cell_type": "code",
   "execution_count": 11,
   "metadata": {},
   "outputs": [],
   "source": [
    "db = chromadb.PersistentClient(path=\"./storage/chroma\")\n",
    "chroma_collection = db.get_or_create_collection(\"techcrunch_articles\")\n",
    "chroma_vector_store = ChromaVectorStore(chroma_collection=chroma_collection)\n",
    "\n",
    "chroma_index = VectorStoreIndex.from_vector_store(vector_store=chroma_vector_store)"
   ]
  },
  {
   "cell_type": "markdown",
   "metadata": {},
   "source": [
    "### 3. Faiss: Efficient Similarity Search and Clustering"
   ]
  },
  {
   "cell_type": "code",
   "execution_count": 15,
   "metadata": {},
   "outputs": [
    {
     "name": "stdout",
     "output_type": "stream",
     "text": [
      "Requirement already satisfied: llama-index-vector-stores-faiss in /Users/heewungsong/anaconda3/envs/visa_chatbot1/lib/python3.11/site-packages (0.1.2)\n",
      "Requirement already satisfied: faiss-cpu in /Users/heewungsong/anaconda3/envs/visa_chatbot1/lib/python3.11/site-packages (1.8.0)\n",
      "Requirement already satisfied: llama-index-core<0.11.0,>=0.10.1 in /Users/heewungsong/anaconda3/envs/visa_chatbot1/lib/python3.11/site-packages (from llama-index-vector-stores-faiss) (0.10.27)\n",
      "Requirement already satisfied: numpy in /Users/heewungsong/anaconda3/envs/visa_chatbot1/lib/python3.11/site-packages (from faiss-cpu) (1.26.4)\n",
      "Requirement already satisfied: PyYAML>=6.0.1 in /Users/heewungsong/anaconda3/envs/visa_chatbot1/lib/python3.11/site-packages (from llama-index-core<0.11.0,>=0.10.1->llama-index-vector-stores-faiss) (6.0.1)\n",
      "Requirement already satisfied: SQLAlchemy>=1.4.49 in /Users/heewungsong/anaconda3/envs/visa_chatbot1/lib/python3.11/site-packages (from SQLAlchemy[asyncio]>=1.4.49->llama-index-core<0.11.0,>=0.10.1->llama-index-vector-stores-faiss) (2.0.29)\n",
      "Requirement already satisfied: aiohttp<4.0.0,>=3.8.6 in /Users/heewungsong/anaconda3/envs/visa_chatbot1/lib/python3.11/site-packages (from llama-index-core<0.11.0,>=0.10.1->llama-index-vector-stores-faiss) (3.9.3)\n",
      "Requirement already satisfied: dataclasses-json in /Users/heewungsong/anaconda3/envs/visa_chatbot1/lib/python3.11/site-packages (from llama-index-core<0.11.0,>=0.10.1->llama-index-vector-stores-faiss) (0.6.4)\n",
      "Requirement already satisfied: deprecated>=1.2.9.3 in /Users/heewungsong/anaconda3/envs/visa_chatbot1/lib/python3.11/site-packages (from llama-index-core<0.11.0,>=0.10.1->llama-index-vector-stores-faiss) (1.2.14)\n",
      "Requirement already satisfied: dirtyjson<2.0.0,>=1.0.8 in /Users/heewungsong/anaconda3/envs/visa_chatbot1/lib/python3.11/site-packages (from llama-index-core<0.11.0,>=0.10.1->llama-index-vector-stores-faiss) (1.0.8)\n",
      "Requirement already satisfied: fsspec>=2023.5.0 in /Users/heewungsong/anaconda3/envs/visa_chatbot1/lib/python3.11/site-packages (from llama-index-core<0.11.0,>=0.10.1->llama-index-vector-stores-faiss) (2024.2.0)\n",
      "Requirement already satisfied: httpx in /Users/heewungsong/anaconda3/envs/visa_chatbot1/lib/python3.11/site-packages (from llama-index-core<0.11.0,>=0.10.1->llama-index-vector-stores-faiss) (0.25.2)\n",
      "Requirement already satisfied: llamaindex-py-client<0.2.0,>=0.1.16 in /Users/heewungsong/anaconda3/envs/visa_chatbot1/lib/python3.11/site-packages (from llama-index-core<0.11.0,>=0.10.1->llama-index-vector-stores-faiss) (0.1.16)\n",
      "Requirement already satisfied: nest-asyncio<2.0.0,>=1.5.8 in /Users/heewungsong/anaconda3/envs/visa_chatbot1/lib/python3.11/site-packages (from llama-index-core<0.11.0,>=0.10.1->llama-index-vector-stores-faiss) (1.6.0)\n",
      "Requirement already satisfied: networkx>=3.0 in /Users/heewungsong/anaconda3/envs/visa_chatbot1/lib/python3.11/site-packages (from llama-index-core<0.11.0,>=0.10.1->llama-index-vector-stores-faiss) (3.2.1)\n",
      "Requirement already satisfied: nltk<4.0.0,>=3.8.1 in /Users/heewungsong/anaconda3/envs/visa_chatbot1/lib/python3.11/site-packages (from llama-index-core<0.11.0,>=0.10.1->llama-index-vector-stores-faiss) (3.8.1)\n",
      "Requirement already satisfied: openai>=1.1.0 in /Users/heewungsong/anaconda3/envs/visa_chatbot1/lib/python3.11/site-packages (from llama-index-core<0.11.0,>=0.10.1->llama-index-vector-stores-faiss) (1.14.2)\n",
      "Requirement already satisfied: pandas in /Users/heewungsong/anaconda3/envs/visa_chatbot1/lib/python3.11/site-packages (from llama-index-core<0.11.0,>=0.10.1->llama-index-vector-stores-faiss) (2.2.1)\n",
      "Requirement already satisfied: pillow>=9.0.0 in /Users/heewungsong/anaconda3/envs/visa_chatbot1/lib/python3.11/site-packages (from llama-index-core<0.11.0,>=0.10.1->llama-index-vector-stores-faiss) (10.2.0)\n",
      "Requirement already satisfied: requests>=2.31.0 in /Users/heewungsong/anaconda3/envs/visa_chatbot1/lib/python3.11/site-packages (from llama-index-core<0.11.0,>=0.10.1->llama-index-vector-stores-faiss) (2.31.0)\n",
      "Requirement already satisfied: tenacity<9.0.0,>=8.2.0 in /Users/heewungsong/anaconda3/envs/visa_chatbot1/lib/python3.11/site-packages (from llama-index-core<0.11.0,>=0.10.1->llama-index-vector-stores-faiss) (8.2.3)\n",
      "Requirement already satisfied: tiktoken>=0.3.3 in /Users/heewungsong/anaconda3/envs/visa_chatbot1/lib/python3.11/site-packages (from llama-index-core<0.11.0,>=0.10.1->llama-index-vector-stores-faiss) (0.6.0)\n",
      "Requirement already satisfied: tqdm<5.0.0,>=4.66.1 in /Users/heewungsong/anaconda3/envs/visa_chatbot1/lib/python3.11/site-packages (from llama-index-core<0.11.0,>=0.10.1->llama-index-vector-stores-faiss) (4.66.2)\n",
      "Requirement already satisfied: typing-extensions>=4.5.0 in /Users/heewungsong/anaconda3/envs/visa_chatbot1/lib/python3.11/site-packages (from llama-index-core<0.11.0,>=0.10.1->llama-index-vector-stores-faiss) (4.9.0)\n",
      "Requirement already satisfied: typing-inspect>=0.8.0 in /Users/heewungsong/anaconda3/envs/visa_chatbot1/lib/python3.11/site-packages (from llama-index-core<0.11.0,>=0.10.1->llama-index-vector-stores-faiss) (0.9.0)\n",
      "Requirement already satisfied: wrapt in /Users/heewungsong/anaconda3/envs/visa_chatbot1/lib/python3.11/site-packages (from llama-index-core<0.11.0,>=0.10.1->llama-index-vector-stores-faiss) (1.16.0)\n",
      "Requirement already satisfied: aiosignal>=1.1.2 in /Users/heewungsong/anaconda3/envs/visa_chatbot1/lib/python3.11/site-packages (from aiohttp<4.0.0,>=3.8.6->llama-index-core<0.11.0,>=0.10.1->llama-index-vector-stores-faiss) (1.3.1)\n",
      "Requirement already satisfied: attrs>=17.3.0 in /Users/heewungsong/anaconda3/envs/visa_chatbot1/lib/python3.11/site-packages (from aiohttp<4.0.0,>=3.8.6->llama-index-core<0.11.0,>=0.10.1->llama-index-vector-stores-faiss) (23.2.0)\n",
      "Requirement already satisfied: frozenlist>=1.1.1 in /Users/heewungsong/anaconda3/envs/visa_chatbot1/lib/python3.11/site-packages (from aiohttp<4.0.0,>=3.8.6->llama-index-core<0.11.0,>=0.10.1->llama-index-vector-stores-faiss) (1.4.1)\n",
      "Requirement already satisfied: multidict<7.0,>=4.5 in /Users/heewungsong/anaconda3/envs/visa_chatbot1/lib/python3.11/site-packages (from aiohttp<4.0.0,>=3.8.6->llama-index-core<0.11.0,>=0.10.1->llama-index-vector-stores-faiss) (6.0.5)\n",
      "Requirement already satisfied: yarl<2.0,>=1.0 in /Users/heewungsong/anaconda3/envs/visa_chatbot1/lib/python3.11/site-packages (from aiohttp<4.0.0,>=3.8.6->llama-index-core<0.11.0,>=0.10.1->llama-index-vector-stores-faiss) (1.9.4)\n",
      "Requirement already satisfied: pydantic>=1.10 in /Users/heewungsong/anaconda3/envs/visa_chatbot1/lib/python3.11/site-packages (from llamaindex-py-client<0.2.0,>=0.1.16->llama-index-core<0.11.0,>=0.10.1->llama-index-vector-stores-faiss) (2.6.4)\n",
      "Requirement already satisfied: anyio in /Users/heewungsong/anaconda3/envs/visa_chatbot1/lib/python3.11/site-packages (from httpx->llama-index-core<0.11.0,>=0.10.1->llama-index-vector-stores-faiss) (4.3.0)\n",
      "Requirement already satisfied: certifi in /Users/heewungsong/anaconda3/envs/visa_chatbot1/lib/python3.11/site-packages (from httpx->llama-index-core<0.11.0,>=0.10.1->llama-index-vector-stores-faiss) (2024.2.2)\n",
      "Requirement already satisfied: httpcore==1.* in /Users/heewungsong/anaconda3/envs/visa_chatbot1/lib/python3.11/site-packages (from httpx->llama-index-core<0.11.0,>=0.10.1->llama-index-vector-stores-faiss) (1.0.4)\n",
      "Requirement already satisfied: idna in /Users/heewungsong/anaconda3/envs/visa_chatbot1/lib/python3.11/site-packages (from httpx->llama-index-core<0.11.0,>=0.10.1->llama-index-vector-stores-faiss) (3.6)\n",
      "Requirement already satisfied: sniffio in /Users/heewungsong/anaconda3/envs/visa_chatbot1/lib/python3.11/site-packages (from httpx->llama-index-core<0.11.0,>=0.10.1->llama-index-vector-stores-faiss) (1.3.1)\n",
      "Requirement already satisfied: h11<0.15,>=0.13 in /Users/heewungsong/anaconda3/envs/visa_chatbot1/lib/python3.11/site-packages (from httpcore==1.*->httpx->llama-index-core<0.11.0,>=0.10.1->llama-index-vector-stores-faiss) (0.14.0)\n",
      "Requirement already satisfied: click in /Users/heewungsong/anaconda3/envs/visa_chatbot1/lib/python3.11/site-packages (from nltk<4.0.0,>=3.8.1->llama-index-core<0.11.0,>=0.10.1->llama-index-vector-stores-faiss) (8.1.7)\n",
      "Requirement already satisfied: joblib in /Users/heewungsong/anaconda3/envs/visa_chatbot1/lib/python3.11/site-packages (from nltk<4.0.0,>=3.8.1->llama-index-core<0.11.0,>=0.10.1->llama-index-vector-stores-faiss) (1.3.2)\n",
      "Requirement already satisfied: regex>=2021.8.3 in /Users/heewungsong/anaconda3/envs/visa_chatbot1/lib/python3.11/site-packages (from nltk<4.0.0,>=3.8.1->llama-index-core<0.11.0,>=0.10.1->llama-index-vector-stores-faiss) (2023.12.25)\n",
      "Requirement already satisfied: distro<2,>=1.7.0 in /Users/heewungsong/anaconda3/envs/visa_chatbot1/lib/python3.11/site-packages (from openai>=1.1.0->llama-index-core<0.11.0,>=0.10.1->llama-index-vector-stores-faiss) (1.9.0)\n",
      "Requirement already satisfied: charset-normalizer<4,>=2 in /Users/heewungsong/anaconda3/envs/visa_chatbot1/lib/python3.11/site-packages (from requests>=2.31.0->llama-index-core<0.11.0,>=0.10.1->llama-index-vector-stores-faiss) (3.3.2)\n",
      "Requirement already satisfied: urllib3<3,>=1.21.1 in /Users/heewungsong/anaconda3/envs/visa_chatbot1/lib/python3.11/site-packages (from requests>=2.31.0->llama-index-core<0.11.0,>=0.10.1->llama-index-vector-stores-faiss) (2.2.1)\n",
      "Requirement already satisfied: greenlet!=0.4.17 in /Users/heewungsong/anaconda3/envs/visa_chatbot1/lib/python3.11/site-packages (from SQLAlchemy[asyncio]>=1.4.49->llama-index-core<0.11.0,>=0.10.1->llama-index-vector-stores-faiss) (3.0.3)\n",
      "Requirement already satisfied: mypy-extensions>=0.3.0 in /Users/heewungsong/anaconda3/envs/visa_chatbot1/lib/python3.11/site-packages (from typing-inspect>=0.8.0->llama-index-core<0.11.0,>=0.10.1->llama-index-vector-stores-faiss) (1.0.0)\n",
      "Requirement already satisfied: marshmallow<4.0.0,>=3.18.0 in /Users/heewungsong/anaconda3/envs/visa_chatbot1/lib/python3.11/site-packages (from dataclasses-json->llama-index-core<0.11.0,>=0.10.1->llama-index-vector-stores-faiss) (3.20.2)\n",
      "Requirement already satisfied: python-dateutil>=2.8.2 in /Users/heewungsong/anaconda3/envs/visa_chatbot1/lib/python3.11/site-packages (from pandas->llama-index-core<0.11.0,>=0.10.1->llama-index-vector-stores-faiss) (2.8.2)\n",
      "Requirement already satisfied: pytz>=2020.1 in /Users/heewungsong/anaconda3/envs/visa_chatbot1/lib/python3.11/site-packages (from pandas->llama-index-core<0.11.0,>=0.10.1->llama-index-vector-stores-faiss) (2024.1)\n",
      "Requirement already satisfied: tzdata>=2022.7 in /Users/heewungsong/anaconda3/envs/visa_chatbot1/lib/python3.11/site-packages (from pandas->llama-index-core<0.11.0,>=0.10.1->llama-index-vector-stores-faiss) (2024.1)\n",
      "Requirement already satisfied: packaging>=17.0 in /Users/heewungsong/anaconda3/envs/visa_chatbot1/lib/python3.11/site-packages (from marshmallow<4.0.0,>=3.18.0->dataclasses-json->llama-index-core<0.11.0,>=0.10.1->llama-index-vector-stores-faiss) (23.2)\n",
      "Requirement already satisfied: annotated-types>=0.4.0 in /Users/heewungsong/anaconda3/envs/visa_chatbot1/lib/python3.11/site-packages (from pydantic>=1.10->llamaindex-py-client<0.2.0,>=0.1.16->llama-index-core<0.11.0,>=0.10.1->llama-index-vector-stores-faiss) (0.6.0)\n",
      "Requirement already satisfied: pydantic-core==2.16.3 in /Users/heewungsong/anaconda3/envs/visa_chatbot1/lib/python3.11/site-packages (from pydantic>=1.10->llamaindex-py-client<0.2.0,>=0.1.16->llama-index-core<0.11.0,>=0.10.1->llama-index-vector-stores-faiss) (2.16.3)\n",
      "Requirement already satisfied: six>=1.5 in /Users/heewungsong/anaconda3/envs/visa_chatbot1/lib/python3.11/site-packages (from python-dateutil>=2.8.2->pandas->llama-index-core<0.11.0,>=0.10.1->llama-index-vector-stores-faiss) (1.16.0)\n"
     ]
    }
   ],
   "source": [
    "!pip install llama-index-vector-stores-faiss faiss-cpu"
   ]
  },
  {
   "cell_type": "code",
   "execution_count": 14,
   "metadata": {},
   "outputs": [
    {
     "name": "stdout",
     "output_type": "stream",
     "text": [
      "INFO:faiss.loader:Loading faiss.\n",
      "Loading faiss.\n",
      "INFO:faiss.loader:Successfully loaded faiss.\n",
      "Successfully loaded faiss.\n"
     ]
    }
   ],
   "source": [
    "import faiss\n",
    "\n",
    "# dimensions of text-ada-embedding-002 in OpenAIEmbedding\n",
    "d = 1536\n",
    "faiss_index = faiss.IndexFlatL2(d)"
   ]
  },
  {
   "cell_type": "code",
   "execution_count": 18,
   "metadata": {},
   "outputs": [
    {
     "data": {
      "application/vnd.jupyter.widget-view+json": {
       "model_id": "105b91e9f554473485705695c823895d",
       "version_major": 2,
       "version_minor": 0
      },
      "text/plain": [
       "Parsing nodes:   0%|          | 0/21 [00:00<?, ?it/s]"
      ]
     },
     "metadata": {},
     "output_type": "display_data"
    },
    {
     "data": {
      "application/vnd.jupyter.widget-view+json": {
       "model_id": "348d539a619041f49bed342ac0b216e7",
       "version_major": 2,
       "version_minor": 0
      },
      "text/plain": [
       "Generating embeddings:   0%|          | 0/51 [00:00<?, ?it/s]"
      ]
     },
     "metadata": {},
     "output_type": "display_data"
    },
    {
     "name": "stdout",
     "output_type": "stream",
     "text": [
      "INFO:httpx:HTTP Request: POST https://api.openai.com/v1/embeddings \"HTTP/1.1 200 OK\"\n",
      "HTTP Request: POST https://api.openai.com/v1/embeddings \"HTTP/1.1 200 OK\"\n"
     ]
    }
   ],
   "source": [
    "from llama_index.core import (\n",
    "    VectorStoreIndex,\n",
    "    StorageContext,\n",
    ")\n",
    "from llama_index.vector_stores.faiss import FaissVectorStore\n",
    "\n",
    "faiss_vector_store = FaissVectorStore(faiss_index=faiss_index)\n",
    "storage_context = StorageContext.from_defaults(vector_store=faiss_vector_store)\n",
    "\n",
    "faiss_index = VectorStoreIndex.from_documents(docs, storage_context=storage_context, show_progress=True)\n",
    "\n",
    "# Save Into Faiss Vector Store\n",
    "faiss_index.storage_context.persist(persist_dir=\"./storage/faiss\")\n"
   ]
  },
  {
   "cell_type": "code",
   "execution_count": 21,
   "metadata": {},
   "outputs": [
    {
     "name": "stdout",
     "output_type": "stream",
     "text": [
      "INFO:root:Loading llama_index.vector_stores.faiss.base from ./storage/faiss/default__vector_store.json.\n",
      "Loading llama_index.vector_stores.faiss.base from ./storage/faiss/default__vector_store.json.\n",
      "INFO:llama_index.core.indices.loading:Loading all indices.\n",
      "Loading all indices.\n"
     ]
    }
   ],
   "source": [
    "# load faiss index from disk\n",
    "vector_store = FaissVectorStore.from_persist_dir(\"./storage/faiss\")\n",
    "storage_context = StorageContext.from_defaults(\n",
    "    vector_store=vector_store, persist_dir=\"./storage/faiss\"\n",
    ")\n",
    "faiss_index = load_index_from_storage(storage_context=storage_context)"
   ]
  },
  {
   "cell_type": "markdown",
   "metadata": {},
   "source": [
    "### 4. Qdrant: A Comprehensive Vector Database"
   ]
  },
  {
   "cell_type": "code",
   "execution_count": 23,
   "metadata": {},
   "outputs": [
    {
     "name": "stdout",
     "output_type": "stream",
     "text": [
      "Requirement already satisfied: llama-index-vector-stores-qdrant in /Users/heewungsong/anaconda3/envs/visa_chatbot1/lib/python3.11/site-packages (0.1.5)\n",
      "Requirement already satisfied: grpcio<2.0.0,>=1.60.0 in /Users/heewungsong/anaconda3/envs/visa_chatbot1/lib/python3.11/site-packages (from llama-index-vector-stores-qdrant) (1.62.1)\n",
      "Requirement already satisfied: llama-index-core<0.11.0,>=0.10.1 in /Users/heewungsong/anaconda3/envs/visa_chatbot1/lib/python3.11/site-packages (from llama-index-vector-stores-qdrant) (0.10.27)\n",
      "Requirement already satisfied: qdrant-client<2.0.0,>=1.7.1 in /Users/heewungsong/anaconda3/envs/visa_chatbot1/lib/python3.11/site-packages (from llama-index-vector-stores-qdrant) (1.8.2)\n",
      "Requirement already satisfied: PyYAML>=6.0.1 in /Users/heewungsong/anaconda3/envs/visa_chatbot1/lib/python3.11/site-packages (from llama-index-core<0.11.0,>=0.10.1->llama-index-vector-stores-qdrant) (6.0.1)\n",
      "Requirement already satisfied: SQLAlchemy>=1.4.49 in /Users/heewungsong/anaconda3/envs/visa_chatbot1/lib/python3.11/site-packages (from SQLAlchemy[asyncio]>=1.4.49->llama-index-core<0.11.0,>=0.10.1->llama-index-vector-stores-qdrant) (2.0.29)\n",
      "Requirement already satisfied: aiohttp<4.0.0,>=3.8.6 in /Users/heewungsong/anaconda3/envs/visa_chatbot1/lib/python3.11/site-packages (from llama-index-core<0.11.0,>=0.10.1->llama-index-vector-stores-qdrant) (3.9.3)\n",
      "Requirement already satisfied: dataclasses-json in /Users/heewungsong/anaconda3/envs/visa_chatbot1/lib/python3.11/site-packages (from llama-index-core<0.11.0,>=0.10.1->llama-index-vector-stores-qdrant) (0.6.4)\n",
      "Requirement already satisfied: deprecated>=1.2.9.3 in /Users/heewungsong/anaconda3/envs/visa_chatbot1/lib/python3.11/site-packages (from llama-index-core<0.11.0,>=0.10.1->llama-index-vector-stores-qdrant) (1.2.14)\n",
      "Requirement already satisfied: dirtyjson<2.0.0,>=1.0.8 in /Users/heewungsong/anaconda3/envs/visa_chatbot1/lib/python3.11/site-packages (from llama-index-core<0.11.0,>=0.10.1->llama-index-vector-stores-qdrant) (1.0.8)\n",
      "Requirement already satisfied: fsspec>=2023.5.0 in /Users/heewungsong/anaconda3/envs/visa_chatbot1/lib/python3.11/site-packages (from llama-index-core<0.11.0,>=0.10.1->llama-index-vector-stores-qdrant) (2024.2.0)\n",
      "Requirement already satisfied: httpx in /Users/heewungsong/anaconda3/envs/visa_chatbot1/lib/python3.11/site-packages (from llama-index-core<0.11.0,>=0.10.1->llama-index-vector-stores-qdrant) (0.25.2)\n",
      "Requirement already satisfied: llamaindex-py-client<0.2.0,>=0.1.16 in /Users/heewungsong/anaconda3/envs/visa_chatbot1/lib/python3.11/site-packages (from llama-index-core<0.11.0,>=0.10.1->llama-index-vector-stores-qdrant) (0.1.16)\n",
      "Requirement already satisfied: nest-asyncio<2.0.0,>=1.5.8 in /Users/heewungsong/anaconda3/envs/visa_chatbot1/lib/python3.11/site-packages (from llama-index-core<0.11.0,>=0.10.1->llama-index-vector-stores-qdrant) (1.6.0)\n",
      "Requirement already satisfied: networkx>=3.0 in /Users/heewungsong/anaconda3/envs/visa_chatbot1/lib/python3.11/site-packages (from llama-index-core<0.11.0,>=0.10.1->llama-index-vector-stores-qdrant) (3.2.1)\n",
      "Requirement already satisfied: nltk<4.0.0,>=3.8.1 in /Users/heewungsong/anaconda3/envs/visa_chatbot1/lib/python3.11/site-packages (from llama-index-core<0.11.0,>=0.10.1->llama-index-vector-stores-qdrant) (3.8.1)\n",
      "Requirement already satisfied: numpy in /Users/heewungsong/anaconda3/envs/visa_chatbot1/lib/python3.11/site-packages (from llama-index-core<0.11.0,>=0.10.1->llama-index-vector-stores-qdrant) (1.26.4)\n",
      "Requirement already satisfied: openai>=1.1.0 in /Users/heewungsong/anaconda3/envs/visa_chatbot1/lib/python3.11/site-packages (from llama-index-core<0.11.0,>=0.10.1->llama-index-vector-stores-qdrant) (1.14.2)\n",
      "Requirement already satisfied: pandas in /Users/heewungsong/anaconda3/envs/visa_chatbot1/lib/python3.11/site-packages (from llama-index-core<0.11.0,>=0.10.1->llama-index-vector-stores-qdrant) (2.2.1)\n",
      "Requirement already satisfied: pillow>=9.0.0 in /Users/heewungsong/anaconda3/envs/visa_chatbot1/lib/python3.11/site-packages (from llama-index-core<0.11.0,>=0.10.1->llama-index-vector-stores-qdrant) (10.2.0)\n",
      "Requirement already satisfied: requests>=2.31.0 in /Users/heewungsong/anaconda3/envs/visa_chatbot1/lib/python3.11/site-packages (from llama-index-core<0.11.0,>=0.10.1->llama-index-vector-stores-qdrant) (2.31.0)\n",
      "Requirement already satisfied: tenacity<9.0.0,>=8.2.0 in /Users/heewungsong/anaconda3/envs/visa_chatbot1/lib/python3.11/site-packages (from llama-index-core<0.11.0,>=0.10.1->llama-index-vector-stores-qdrant) (8.2.3)\n",
      "Requirement already satisfied: tiktoken>=0.3.3 in /Users/heewungsong/anaconda3/envs/visa_chatbot1/lib/python3.11/site-packages (from llama-index-core<0.11.0,>=0.10.1->llama-index-vector-stores-qdrant) (0.6.0)\n",
      "Requirement already satisfied: tqdm<5.0.0,>=4.66.1 in /Users/heewungsong/anaconda3/envs/visa_chatbot1/lib/python3.11/site-packages (from llama-index-core<0.11.0,>=0.10.1->llama-index-vector-stores-qdrant) (4.66.2)\n",
      "Requirement already satisfied: typing-extensions>=4.5.0 in /Users/heewungsong/anaconda3/envs/visa_chatbot1/lib/python3.11/site-packages (from llama-index-core<0.11.0,>=0.10.1->llama-index-vector-stores-qdrant) (4.9.0)\n",
      "Requirement already satisfied: typing-inspect>=0.8.0 in /Users/heewungsong/anaconda3/envs/visa_chatbot1/lib/python3.11/site-packages (from llama-index-core<0.11.0,>=0.10.1->llama-index-vector-stores-qdrant) (0.9.0)\n",
      "Requirement already satisfied: wrapt in /Users/heewungsong/anaconda3/envs/visa_chatbot1/lib/python3.11/site-packages (from llama-index-core<0.11.0,>=0.10.1->llama-index-vector-stores-qdrant) (1.16.0)\n",
      "Requirement already satisfied: grpcio-tools>=1.41.0 in /Users/heewungsong/anaconda3/envs/visa_chatbot1/lib/python3.11/site-packages (from qdrant-client<2.0.0,>=1.7.1->llama-index-vector-stores-qdrant) (1.62.1)\n",
      "Requirement already satisfied: portalocker<3.0.0,>=2.7.0 in /Users/heewungsong/anaconda3/envs/visa_chatbot1/lib/python3.11/site-packages (from qdrant-client<2.0.0,>=1.7.1->llama-index-vector-stores-qdrant) (2.8.2)\n",
      "Requirement already satisfied: pydantic>=1.10.8 in /Users/heewungsong/anaconda3/envs/visa_chatbot1/lib/python3.11/site-packages (from qdrant-client<2.0.0,>=1.7.1->llama-index-vector-stores-qdrant) (2.6.4)\n",
      "Requirement already satisfied: urllib3<3,>=1.26.14 in /Users/heewungsong/anaconda3/envs/visa_chatbot1/lib/python3.11/site-packages (from qdrant-client<2.0.0,>=1.7.1->llama-index-vector-stores-qdrant) (2.2.1)\n",
      "Requirement already satisfied: aiosignal>=1.1.2 in /Users/heewungsong/anaconda3/envs/visa_chatbot1/lib/python3.11/site-packages (from aiohttp<4.0.0,>=3.8.6->llama-index-core<0.11.0,>=0.10.1->llama-index-vector-stores-qdrant) (1.3.1)\n",
      "Requirement already satisfied: attrs>=17.3.0 in /Users/heewungsong/anaconda3/envs/visa_chatbot1/lib/python3.11/site-packages (from aiohttp<4.0.0,>=3.8.6->llama-index-core<0.11.0,>=0.10.1->llama-index-vector-stores-qdrant) (23.2.0)\n",
      "Requirement already satisfied: frozenlist>=1.1.1 in /Users/heewungsong/anaconda3/envs/visa_chatbot1/lib/python3.11/site-packages (from aiohttp<4.0.0,>=3.8.6->llama-index-core<0.11.0,>=0.10.1->llama-index-vector-stores-qdrant) (1.4.1)\n",
      "Requirement already satisfied: multidict<7.0,>=4.5 in /Users/heewungsong/anaconda3/envs/visa_chatbot1/lib/python3.11/site-packages (from aiohttp<4.0.0,>=3.8.6->llama-index-core<0.11.0,>=0.10.1->llama-index-vector-stores-qdrant) (6.0.5)\n",
      "Requirement already satisfied: yarl<2.0,>=1.0 in /Users/heewungsong/anaconda3/envs/visa_chatbot1/lib/python3.11/site-packages (from aiohttp<4.0.0,>=3.8.6->llama-index-core<0.11.0,>=0.10.1->llama-index-vector-stores-qdrant) (1.9.4)\n",
      "Requirement already satisfied: protobuf<5.0dev,>=4.21.6 in /Users/heewungsong/anaconda3/envs/visa_chatbot1/lib/python3.11/site-packages (from grpcio-tools>=1.41.0->qdrant-client<2.0.0,>=1.7.1->llama-index-vector-stores-qdrant) (4.25.3)\n",
      "Requirement already satisfied: setuptools in /Users/heewungsong/anaconda3/envs/visa_chatbot1/lib/python3.11/site-packages (from grpcio-tools>=1.41.0->qdrant-client<2.0.0,>=1.7.1->llama-index-vector-stores-qdrant) (68.2.2)\n",
      "Requirement already satisfied: anyio in /Users/heewungsong/anaconda3/envs/visa_chatbot1/lib/python3.11/site-packages (from httpx->llama-index-core<0.11.0,>=0.10.1->llama-index-vector-stores-qdrant) (4.3.0)\n",
      "Requirement already satisfied: certifi in /Users/heewungsong/anaconda3/envs/visa_chatbot1/lib/python3.11/site-packages (from httpx->llama-index-core<0.11.0,>=0.10.1->llama-index-vector-stores-qdrant) (2024.2.2)\n",
      "Requirement already satisfied: httpcore==1.* in /Users/heewungsong/anaconda3/envs/visa_chatbot1/lib/python3.11/site-packages (from httpx->llama-index-core<0.11.0,>=0.10.1->llama-index-vector-stores-qdrant) (1.0.4)\n",
      "Requirement already satisfied: idna in /Users/heewungsong/anaconda3/envs/visa_chatbot1/lib/python3.11/site-packages (from httpx->llama-index-core<0.11.0,>=0.10.1->llama-index-vector-stores-qdrant) (3.6)\n",
      "Requirement already satisfied: sniffio in /Users/heewungsong/anaconda3/envs/visa_chatbot1/lib/python3.11/site-packages (from httpx->llama-index-core<0.11.0,>=0.10.1->llama-index-vector-stores-qdrant) (1.3.1)\n",
      "Requirement already satisfied: h11<0.15,>=0.13 in /Users/heewungsong/anaconda3/envs/visa_chatbot1/lib/python3.11/site-packages (from httpcore==1.*->httpx->llama-index-core<0.11.0,>=0.10.1->llama-index-vector-stores-qdrant) (0.14.0)\n",
      "Requirement already satisfied: h2<5,>=3 in /Users/heewungsong/anaconda3/envs/visa_chatbot1/lib/python3.11/site-packages (from httpx[http2]>=0.20.0->qdrant-client<2.0.0,>=1.7.1->llama-index-vector-stores-qdrant) (4.1.0)\n",
      "Requirement already satisfied: click in /Users/heewungsong/anaconda3/envs/visa_chatbot1/lib/python3.11/site-packages (from nltk<4.0.0,>=3.8.1->llama-index-core<0.11.0,>=0.10.1->llama-index-vector-stores-qdrant) (8.1.7)\n",
      "Requirement already satisfied: joblib in /Users/heewungsong/anaconda3/envs/visa_chatbot1/lib/python3.11/site-packages (from nltk<4.0.0,>=3.8.1->llama-index-core<0.11.0,>=0.10.1->llama-index-vector-stores-qdrant) (1.3.2)\n",
      "Requirement already satisfied: regex>=2021.8.3 in /Users/heewungsong/anaconda3/envs/visa_chatbot1/lib/python3.11/site-packages (from nltk<4.0.0,>=3.8.1->llama-index-core<0.11.0,>=0.10.1->llama-index-vector-stores-qdrant) (2023.12.25)\n",
      "Requirement already satisfied: distro<2,>=1.7.0 in /Users/heewungsong/anaconda3/envs/visa_chatbot1/lib/python3.11/site-packages (from openai>=1.1.0->llama-index-core<0.11.0,>=0.10.1->llama-index-vector-stores-qdrant) (1.9.0)\n",
      "Requirement already satisfied: annotated-types>=0.4.0 in /Users/heewungsong/anaconda3/envs/visa_chatbot1/lib/python3.11/site-packages (from pydantic>=1.10.8->qdrant-client<2.0.0,>=1.7.1->llama-index-vector-stores-qdrant) (0.6.0)\n",
      "Requirement already satisfied: pydantic-core==2.16.3 in /Users/heewungsong/anaconda3/envs/visa_chatbot1/lib/python3.11/site-packages (from pydantic>=1.10.8->qdrant-client<2.0.0,>=1.7.1->llama-index-vector-stores-qdrant) (2.16.3)\n",
      "Requirement already satisfied: charset-normalizer<4,>=2 in /Users/heewungsong/anaconda3/envs/visa_chatbot1/lib/python3.11/site-packages (from requests>=2.31.0->llama-index-core<0.11.0,>=0.10.1->llama-index-vector-stores-qdrant) (3.3.2)\n",
      "Requirement already satisfied: greenlet!=0.4.17 in /Users/heewungsong/anaconda3/envs/visa_chatbot1/lib/python3.11/site-packages (from SQLAlchemy[asyncio]>=1.4.49->llama-index-core<0.11.0,>=0.10.1->llama-index-vector-stores-qdrant) (3.0.3)\n",
      "Requirement already satisfied: mypy-extensions>=0.3.0 in /Users/heewungsong/anaconda3/envs/visa_chatbot1/lib/python3.11/site-packages (from typing-inspect>=0.8.0->llama-index-core<0.11.0,>=0.10.1->llama-index-vector-stores-qdrant) (1.0.0)\n",
      "Requirement already satisfied: marshmallow<4.0.0,>=3.18.0 in /Users/heewungsong/anaconda3/envs/visa_chatbot1/lib/python3.11/site-packages (from dataclasses-json->llama-index-core<0.11.0,>=0.10.1->llama-index-vector-stores-qdrant) (3.20.2)\n",
      "Requirement already satisfied: python-dateutil>=2.8.2 in /Users/heewungsong/anaconda3/envs/visa_chatbot1/lib/python3.11/site-packages (from pandas->llama-index-core<0.11.0,>=0.10.1->llama-index-vector-stores-qdrant) (2.8.2)\n",
      "Requirement already satisfied: pytz>=2020.1 in /Users/heewungsong/anaconda3/envs/visa_chatbot1/lib/python3.11/site-packages (from pandas->llama-index-core<0.11.0,>=0.10.1->llama-index-vector-stores-qdrant) (2024.1)\n",
      "Requirement already satisfied: tzdata>=2022.7 in /Users/heewungsong/anaconda3/envs/visa_chatbot1/lib/python3.11/site-packages (from pandas->llama-index-core<0.11.0,>=0.10.1->llama-index-vector-stores-qdrant) (2024.1)\n",
      "Requirement already satisfied: hyperframe<7,>=6.0 in /Users/heewungsong/anaconda3/envs/visa_chatbot1/lib/python3.11/site-packages (from h2<5,>=3->httpx[http2]>=0.20.0->qdrant-client<2.0.0,>=1.7.1->llama-index-vector-stores-qdrant) (6.0.1)\n",
      "Requirement already satisfied: hpack<5,>=4.0 in /Users/heewungsong/anaconda3/envs/visa_chatbot1/lib/python3.11/site-packages (from h2<5,>=3->httpx[http2]>=0.20.0->qdrant-client<2.0.0,>=1.7.1->llama-index-vector-stores-qdrant) (4.0.0)\n",
      "Requirement already satisfied: packaging>=17.0 in /Users/heewungsong/anaconda3/envs/visa_chatbot1/lib/python3.11/site-packages (from marshmallow<4.0.0,>=3.18.0->dataclasses-json->llama-index-core<0.11.0,>=0.10.1->llama-index-vector-stores-qdrant) (23.2)\n",
      "Requirement already satisfied: six>=1.5 in /Users/heewungsong/anaconda3/envs/visa_chatbot1/lib/python3.11/site-packages (from python-dateutil>=2.8.2->pandas->llama-index-core<0.11.0,>=0.10.1->llama-index-vector-stores-qdrant) (1.16.0)\n"
     ]
    }
   ],
   "source": [
    "!pip install llama-index-vector-stores-qdrant qdrant_client"
   ]
  },
  {
   "cell_type": "code",
   "execution_count": null,
   "metadata": {},
   "outputs": [],
   "source": [
    "from llama_index.core import VectorStoreIndex, StorageContext\n",
    "from llama_index.vector_stores.qdrant import QdrantVectorStore\n",
    "from qdrant_client import QdrantClient\n",
    "\n",
    "# This is for Cloud Storage\n",
    "# client = QdrantClient(\n",
    "#     \"localhost\",\n",
    "#     port=\"6333\",\n",
    "# )\n",
    "client = QdrantClient(path=\"./storage/qdrant\")\n",
    "\n",
    "qdrant_vector_store = QdrantVectorStore(\n",
    "    client=client, \n",
    "    collection_name=\"techcrunch_articles\", \n",
    "    enable_hybrid=False, #  whether to enable hybrid search using dense and sparse vectors\n",
    ")\n",
    "\n",
    "storage_context = StorageContext.from_defaults(vector_store=qdrant_vector_store)\n",
    "qdrant_index = VectorStoreIndex.from_documents(docs, storage_context=storage_context)"
   ]
  },
  {
   "cell_type": "code",
   "execution_count": null,
   "metadata": {},
   "outputs": [],
   "source": [
    "# load Qdrant index from disk\n",
    "\n",
    "client = QdrantClient(path=\"./storage/qdrant\")\n",
    "\n",
    "qdrant_vector_store = QdrantVectorStore(client=client, collection_name=\"techcrunch_articles\")\n",
    "qdrant_index = VectorStoreIndex.from_vector_store(vector_store=qdrant_vector_store)"
   ]
  },
  {
   "cell_type": "markdown",
   "metadata": {},
   "source": [
    "### Conclusion\n",
    "\n",
    "1. Recap of Key Points\n",
    "2. Future of Vector Databases in Data-Driven Applications"
   ]
  },
  {
   "cell_type": "markdown",
   "metadata": {},
   "source": [
    "### 1. Recap of Key Points\n",
    "\n",
    "In this blog content, we have explored the basics of vector databases and their role in data-driven applications. We have discussed the differences between vector databases and traditional databases, focusing on their data representation, querying approach, optimization techniques, and use cases. We have also provided an overview of three popular vector databases: Chroma, Faiss, and Qdrant, including their key features and usage."
   ]
  },
  {
   "cell_type": "markdown",
   "metadata": {},
   "source": [
    "### 2. Future of Vector Databases in Data-Driven Applications\n",
    "Vector databases are becoming increasingly important in the field of data-driven applications, particularly in tasks involving similarity searches and machine learning.   \n",
    "As the demand for efficient and scalable data management solutions grows, vector databases are expected to play a more significant role in powering large language models, image recognition, and other AI applications.   \n",
    "\n",
    "In the future, we can expect to see advancements in vector database technologies, such as improved performance, scalability, and adaptability to different data types. Additionally, we may see the development of more user-friendly APIs and toolkits to facilitate the integration of vector databases into various applications.   \n",
    "\n",
    "Overall, vector databases are a promising technology that is poised to revolutionize the way we handle and analyze complex data. As the field continues to evolve, we can anticipate new applications and use cases that will further expand the potential of vector databases in data-driven applications."
   ]
  }
 ],
 "metadata": {
  "kernelspec": {
   "display_name": "Python 3 (ipykernel)",
   "language": "python",
   "name": "python3"
  },
  "language_info": {
   "codemirror_mode": {
    "name": "ipython",
    "version": 3
   },
   "file_extension": ".py",
   "mimetype": "text/x-python",
   "name": "python",
   "nbconvert_exporter": "python",
   "pygments_lexer": "ipython3",
   "version": "3.11.5"
  }
 },
 "nbformat": 4,
 "nbformat_minor": 4
}
