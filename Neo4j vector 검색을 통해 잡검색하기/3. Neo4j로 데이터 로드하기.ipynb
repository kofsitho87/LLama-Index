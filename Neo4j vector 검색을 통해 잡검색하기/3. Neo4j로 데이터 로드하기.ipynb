{
 "cells": [
  {
   "cell_type": "markdown",
   "metadata": {},
   "source": [
    "#### Neo4j DB란\n",
    "\n",
    "Neo4j는 강력한 그래프 데이터베이스 관리 시스템으로, 복잡한 네트워크와 관계를 효율적으로 저장하고 쿼리할 수 있도록 설계되었습니다. 이 데이터베이스는 \"노드(nodes)\"와 \"관계(edges)\"를 사용하여 데이터를 그래프 형태로 표현합니다. 노드는 실제 세계의 객체나 개체를 나타내며, 관계는 노드 간의 연결을 의미합니다.\n",
    "\n",
    "\n",
    "[노드와 관계들의 이미지]"
   ]
  },
  {
   "cell_type": "code",
   "execution_count": null,
   "metadata": {},
   "outputs": [],
   "source": []
  }
 ],
 "metadata": {
  "language_info": {
   "name": "python"
  }
 },
 "nbformat": 4,
 "nbformat_minor": 2
}
