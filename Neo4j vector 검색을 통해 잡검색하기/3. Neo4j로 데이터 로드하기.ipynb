{
 "cells": [
  {
   "cell_type": "markdown",
   "metadata": {},
   "source": [
    "#### Neo4j DB란\n",
    "\n",
    "Neo4j는 강력한 그래프 데이터베이스 관리 시스템으로, 복잡한 네트워크와 관계를 효율적으로 저장하고 쿼리할 수 있도록 설계되었습니다. 이 데이터베이스는 \"노드(nodes)\"와 \"관계(edges)\"를 사용하여 데이터를 그래프 형태로 표현합니다. 노드는 실제 세계의 객체나 개체를 나타내며, 관계는 노드 간의 연결을 의미합니다.\n",
    "\n",
    "\n",
    "[![The data model for the GraphAcademy database: 출처 Neo4](data:image/jpeg;base64,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)](test)\n"
   ]
  },
  {
   "cell_type": "code",
   "execution_count": 10,
   "metadata": {},
   "outputs": [],
   "source": [
    "username=\"neo4j\"\n",
    "password=\"qwer1234\"\n",
    "url=\"bolt://localhost:7687\"\n",
    "database=\"worknet-jobs\""
   ]
  },
  {
   "cell_type": "code",
   "execution_count": 11,
   "metadata": {},
   "outputs": [],
   "source": [
    "from neo4j import GraphDatabase\n",
    "\n",
    "\n",
    "with  GraphDatabase.driver(uri=url, auth=(username, password)) as driver:\n",
    "    driver.verify_connectivity()\n",
    "    session = driver.session(database=database)"
   ]
  },
  {
   "cell_type": "code",
   "execution_count": 13,
   "metadata": {},
   "outputs": [
    {
     "data": {
      "text/html": [
       "<div>\n",
       "<style scoped>\n",
       "    .dataframe tbody tr th:only-of-type {\n",
       "        vertical-align: middle;\n",
       "    }\n",
       "\n",
       "    .dataframe tbody tr th {\n",
       "        vertical-align: top;\n",
       "    }\n",
       "\n",
       "    .dataframe thead th {\n",
       "        text-align: right;\n",
       "    }\n",
       "</style>\n",
       "<table border=\"1\" class=\"dataframe\">\n",
       "  <thead>\n",
       "    <tr style=\"text-align: right;\">\n",
       "      <th></th>\n",
       "      <th>title</th>\n",
       "    </tr>\n",
       "  </thead>\n",
       "  <tbody>\n",
       "    <tr>\n",
       "      <th>0</th>\n",
       "      <td>단순 포장반직원 모집합니다</td>\n",
       "    </tr>\n",
       "    <tr>\n",
       "      <th>1</th>\n",
       "      <td>단순포장 및 락크작업</td>\n",
       "    </tr>\n",
       "    <tr>\n",
       "      <th>2</th>\n",
       "      <td>육류 가공 식당납품</td>\n",
       "    </tr>\n",
       "  </tbody>\n",
       "</table>\n",
       "</div>"
      ],
      "text/plain": [
       "             title\n",
       "0  단순 포장반직원 모집합니다 \n",
       "1     단순포장 및 락크작업 \n",
       "2      육류 가공 식당납품 "
      ]
     },
     "execution_count": 13,
     "metadata": {},
     "output_type": "execute_result"
    }
   ],
   "source": [
    "csv_file_name = \"pre_processed_jobs_worknet.csv\"\n",
    "\n",
    "session.run(f\"\"\"\n",
    "LOAD CSV WITH HEADERS FROM 'file:///{csv_file_name}' AS row\n",
    "WITH row.JobTitle as title\n",
    "RETURN title\n",
    "LIMIT 3\n",
    "\"\"\").to_df()"
   ]
  },
  {
   "cell_type": "code",
   "execution_count": 14,
   "metadata": {},
   "outputs": [
    {
     "data": {
      "text/plain": [
       "Index(['JobTitle', 'JobVolunteerExperience', 'RequiredExperienceMonths',\n",
       "       'PreferredExperienceMonths', 'JobVolunteerEducation', 'WeeklyWorkdays',\n",
       "       'Workdays', 'JobPayment', 'MinMonthlyPayment', 'MaxMonthlyPayment',\n",
       "       'JobContractType', 'JobBenefits', 'CompanyName', 'CompanyIndustry',\n",
       "       'CompanySize', 'CompanyLocation'],\n",
       "      dtype='object')"
      ]
     },
     "execution_count": 14,
     "metadata": {},
     "output_type": "execute_result"
    }
   ],
   "source": [
    "import pandas as pd\n",
    "\n",
    "df = pd.read_csv(\"data/pre_processed_jobs_worknet.csv\")\n",
    "df.keys()"
   ]
  },
  {
   "cell_type": "code",
   "execution_count": 49,
   "metadata": {},
   "outputs": [
    {
     "name": "stdout",
     "output_type": "stream",
     "text": [
      "896\n",
      "333\n"
     ]
    }
   ],
   "source": [
    "print(df['CompanyIndustry'].count())\n",
    "print(len(df['CompanyIndustry'].unique().tolist()))"
   ]
  },
  {
   "cell_type": "code",
   "execution_count": null,
   "metadata": {},
   "outputs": [],
   "source": [
    "\n",
    "df['CompanyIndustry'].unique().tolist()"
   ]
  },
  {
   "cell_type": "code",
   "execution_count": null,
   "metadata": {},
   "outputs": [],
   "source": [
    "query = \"\"\"\n",
    "LOAD CSV WITH HEADERS FROM 'file:///{csv_file_name}' AS row\n",
    "WITH row\n",
    "MERGE (j:Job {name: trim(row.JobTitle)})\n",
    "    SET j.required_experience_months = COALESCE(toInteger(row.RequiredExperienceMonths), null)\n",
    "    SET j.preferred_experience_months = COALESCE(toInteger(row.PreferredExperienceMonths), null)\n",
    "    SET j.payment = trim(row.JobPayment)\n",
    "    SET j.min_monthly_payment = COALESCE(toInteger(row.MinMonthlyPayment), null)\n",
    "    SET j.max_monthly_payment = COALESCE(toInteger(row.MaxMonthlyPayment), null)\n",
    "    \n",
    "WITH row, j\n",
    "WHERE row.Workdays IS NOT NULL\n",
    "MERGE (wd:WeeklyWorkdays {value: toInteger(row.Workdays)})\n",
    "MERGE (j)-[:HAS_WEEKLY_WORKDAYS]->(wd)\n",
    "\n",
    "WITH row, j\n",
    "WHERE row.JobContractType IS NOT NULL\n",
    "MERGE (ct:ContractType {name: trim(row.JobContractType)})\n",
    "MERGE (j)-[:USES_CONTRACT_TYPE]->(ct)\n",
    "\n",
    "WITH row, j\n",
    "WHERE row.JobVolunteerEducation IS NOT NULL\n",
    "MERGE (ve:VolunteerEducation {name: trim(row.JobVolunteerEducation)})\n",
    "MERGE (j)-[:REQUIRES_VOLUNTEER_EDUCATION]->(ve)\n",
    "\n",
    "WITH row, j\n",
    "WHERE row.JobBenefits IS NOT NULL\n",
    "FOREACH (\n",
    "    item in split(row.JobBenefits, ' ') | \n",
    "    MERGE (b:Benefit {name: trim(item)})\n",
    "    MERGE (j)-[:PROVIDES_BENEFIT]->(b\n",
    ")\n",
    "\n",
    "// Company\n",
    "WITH row, j\n",
    "WHERE row.CompanyName IS NOT NULL\n",
    "MERGE (c: Company {name: trim(row.CompanyName)})\n",
    "\tSET c.industry = COALESCE(trim(row.CompanyIndustry), null)\n",
    "\tSET c.size = COALESCE(trim(row.CompanySize), null)\n",
    "    SET c.address = COALESCE(trim(row.CompanyLocation), null)\n",
    "MERGE (c)-[:HAS_JOB_OPENING]->(j)\n",
    "\"\"\"\n",
    "\n",
    "result = session.run(query)"
   ]
  }
 ],
 "metadata": {
  "kernelspec": {
   "display_name": "visa_chatbot1",
   "language": "python",
   "name": "python3"
  },
  "language_info": {
   "codemirror_mode": {
    "name": "ipython",
    "version": 3
   },
   "file_extension": ".py",
   "mimetype": "text/x-python",
   "name": "python",
   "nbconvert_exporter": "python",
   "pygments_lexer": "ipython3",
   "version": "3.11.8"
  }
 },
 "nbformat": 4,
 "nbformat_minor": 2
}
