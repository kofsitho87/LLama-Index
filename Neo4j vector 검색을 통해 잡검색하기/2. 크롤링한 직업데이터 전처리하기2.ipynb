{
 "cells": [
  {
   "cell_type": "markdown",
   "metadata": {},
   "source": [
    "# EP 1.1: 크롤링한 직업데이터 전처리하기\n",
    "\n",
    "**주요내용**\n",
    "- 📊 **데이터 전처리**: `CompanyIndustry` 항목에 대한 분류\n",
    "- 🧹 **결측치 처리**: \n",
    "- 📈 **데이터 시각화**: \n",
    "- 🤖 **자동화된 분석**: "
   ]
  },
  {
   "cell_type": "markdown",
   "metadata": {},
   "source": [
    "## `CompanyIndustry` 항목에 대한 분류 "
   ]
  },
  {
   "cell_type": "code",
   "execution_count": 3,
   "metadata": {},
   "outputs": [
    {
     "data": {
      "text/plain": [
       "Index(['JobTitle', 'JobVolunteerExperience', 'RequiredExperienceMonths',\n",
       "       'PreferredExperienceMonths', 'JobVolunteerEducation', 'WeeklyWorkdays',\n",
       "       'Workdays', 'JobPayment', 'MinMonthlyPayment', 'MaxMonthlyPayment',\n",
       "       'JobContractType', 'JobBenefits', 'CompanyName', 'CompanyIndustry',\n",
       "       'CompanySize', 'CompanyLocation'],\n",
       "      dtype='object')"
      ]
     },
     "execution_count": 3,
     "metadata": {},
     "output_type": "execute_result"
    }
   ],
   "source": [
    "# 이전에 전처리한 csv파일을 Dataframe에 로드합니다.\n",
    "\n",
    "import pandas as pd\n",
    "\n",
    "df = pd.read_csv(\"data/pre_processed_jobs_worknet.csv\")\n",
    "df.keys()"
   ]
  },
  {
   "cell_type": "code",
   "execution_count": null,
   "metadata": {},
   "outputs": [
    {
     "data": {
      "text/html": [
       "<div>\n",
       "<style scoped>\n",
       "    .dataframe tbody tr th:only-of-type {\n",
       "        vertical-align: middle;\n",
       "    }\n",
       "\n",
       "    .dataframe tbody tr th {\n",
       "        vertical-align: top;\n",
       "    }\n",
       "\n",
       "    .dataframe thead th {\n",
       "        text-align: right;\n",
       "    }\n",
       "</style>\n",
       "<table border=\"1\" class=\"dataframe\">\n",
       "  <thead>\n",
       "    <tr style=\"text-align: right;\">\n",
       "      <th></th>\n",
       "      <th>JobTitle</th>\n",
       "      <th>CompanyIndustry</th>\n",
       "    </tr>\n",
       "  </thead>\n",
       "  <tbody>\n",
       "    <tr>\n",
       "      <th>0</th>\n",
       "      <td>단순 포장반직원 모집합니다</td>\n",
       "      <td>사료 도매업</td>\n",
       "    </tr>\n",
       "    <tr>\n",
       "      <th>1</th>\n",
       "      <td>단순포장 및 락크작업</td>\n",
       "      <td>도금, 착색 및 기타 표면처리강재 제조업</td>\n",
       "    </tr>\n",
       "    <tr>\n",
       "      <th>2</th>\n",
       "      <td>육류 가공 식당납품</td>\n",
       "      <td>육류 가공식품 도매업</td>\n",
       "    </tr>\n",
       "    <tr>\n",
       "      <th>3</th>\n",
       "      <td>[이천시 가좌리] 신축빌라 공사현장 잡역부 모집</td>\n",
       "      <td>단독 주택 건설업</td>\n",
       "    </tr>\n",
       "    <tr>\n",
       "      <th>4</th>\n",
       "      <td>생산직 채용(당사 제품 생산) 외국인 우대</td>\n",
       "      <td>구조용 금속 판제품 및 공작물 제조업</td>\n",
       "    </tr>\n",
       "    <tr>\n",
       "      <th>...</th>\n",
       "      <td>...</td>\n",
       "      <td>...</td>\n",
       "    </tr>\n",
       "    <tr>\n",
       "      <th>995</th>\n",
       "      <td>용접사(외국인력 우대) 정규직 모집</td>\n",
       "      <td>반도체 제조용 기계 제조업</td>\n",
       "    </tr>\n",
       "    <tr>\n",
       "      <th>996</th>\n",
       "      <td>토마토,메론 하우스 재배 작업자 구인</td>\n",
       "      <td>채소작물 재배업</td>\n",
       "    </tr>\n",
       "    <tr>\n",
       "      <th>997</th>\n",
       "      <td>작물재배 단순노무</td>\n",
       "      <td>작물재배 및 축산 복합농업</td>\n",
       "    </tr>\n",
       "    <tr>\n",
       "      <th>998</th>\n",
       "      <td>레디얼 작업 및 단순사상원 (보조원) 모집</td>\n",
       "      <td>그 외 기타 특수목적용 기계 제조업</td>\n",
       "    </tr>\n",
       "    <tr>\n",
       "      <th>999</th>\n",
       "      <td>농업단순노무자</td>\n",
       "      <td>농업</td>\n",
       "    </tr>\n",
       "  </tbody>\n",
       "</table>\n",
       "<p>1000 rows × 2 columns</p>\n",
       "</div>"
      ],
      "text/plain": [
       "                        JobTitle         CompanyIndustry\n",
       "0                단순 포장반직원 모집합니다                   사료 도매업\n",
       "1                   단순포장 및 락크작업   도금, 착색 및 기타 표면처리강재 제조업\n",
       "2                    육류 가공 식당납품              육류 가공식품 도매업\n",
       "3    [이천시 가좌리] 신축빌라 공사현장 잡역부 모집                단독 주택 건설업\n",
       "4       생산직 채용(당사 제품 생산) 외국인 우대     구조용 금속 판제품 및 공작물 제조업\n",
       "..                           ...                     ...\n",
       "995         용접사(외국인력 우대) 정규직 모집           반도체 제조용 기계 제조업\n",
       "996        토마토,메론 하우스 재배 작업자 구인                 채소작물 재배업\n",
       "997                   작물재배 단순노무           작물재배 및 축산 복합농업\n",
       "998     레디얼 작업 및 단순사상원 (보조원) 모집      그 외 기타 특수목적용 기계 제조업\n",
       "999                     농업단순노무자                       농업\n",
       "\n",
       "[1000 rows x 2 columns]"
      ]
     },
     "execution_count": 4,
     "metadata": {},
     "output_type": "execute_result"
    }
   ],
   "source": [
    "test_df = df[['JobTitle', 'CompanyIndustry']]\n",
    "\n",
    "test_df"
   ]
  },
  {
   "cell_type": "code",
   "execution_count": 5,
   "metadata": {},
   "outputs": [
    {
     "data": {
      "text/plain": [
       "896"
      ]
     },
     "execution_count": 5,
     "metadata": {},
     "output_type": "execute_result"
    }
   ],
   "source": [
    "company_industries = df['CompanyIndustry'].dropna().to_list()\n",
    "\n",
    "len(company_industries)"
   ]
  },
  {
   "cell_type": "code",
   "execution_count": 9,
   "metadata": {},
   "outputs": [],
   "source": [
    "import seaborn as sns\n",
    "from matplotlib import rc\n",
    "import matplotlib.pyplot as plt\n",
    "\n",
    "%matplotlib inline\n",
    "# 한글 폰트 적용\n",
    "rc('font', family='AppleGothic')\n",
    "plt.rcParams['axes.unicode_minus'] = False"
   ]
  },
  {
   "cell_type": "code",
   "execution_count": 1,
   "metadata": {},
   "outputs": [
    {
     "name": "stderr",
     "output_type": "stream",
     "text": [
      "/Users/heewungsong/anaconda3/envs/test/lib/python3.11/site-packages/tqdm/auto.py:21: TqdmWarning: IProgress not found. Please update jupyter and ipywidgets. See https://ipywidgets.readthedocs.io/en/stable/user_install.html\n",
      "  from .autonotebook import tqdm as notebook_tqdm\n",
      "No sentence-transformers model found with name BM-K/KoSimCSE-bert. Creating a new one with MEAN pooling.\n"
     ]
    }
   ],
   "source": [
    "from llama_index.embeddings.huggingface import HuggingFaceEmbedding\n",
    "\n",
    "embed_model = HuggingFaceEmbedding(\n",
    "    model_name=\"BM-K/KoSimCSE-bert\",\n",
    "    normalize=True,\n",
    ")\n",
    "# embed_model = HuggingFaceEmbedding(model_name=\"BAAI/bge-small-en-v1.5\")"
   ]
  },
  {
   "cell_type": "code",
   "execution_count": 54,
   "metadata": {},
   "outputs": [],
   "source": [
    "import numpy as np\n",
    "from sklearn.metrics.pairwise import cosine_similarity\n",
    "\n",
    "\n",
    "def cosine_distance(embed_a, embed_b):\n",
    "    \"\"\"Calculate the cosine distance between two embeddings.\"\"\"\n",
    "    return 1 - np.dot(embed_a, embed_b) / (np.linalg.norm(embed_a) * np.linalg.norm(embed_b))\n",
    "    # return cosine_similarity(np.array(embed_a), np.array(embed_b))\n",
    "\n",
    "def euclidean_distance(embed_a, embed_b):\n",
    "    \"\"\"Calculate the Euclidean distance between two embeddings.\"\"\"\n",
    "    embed_a_ = np.array(embed_a)\n",
    "    embed_b_ = np.array(embed_b)\n",
    "    return np.linalg.norm(embed_a_ - embed_b_)"
   ]
  },
  {
   "cell_type": "code",
   "execution_count": 66,
   "metadata": {},
   "outputs": [
    {
     "name": "stdout",
     "output_type": "stream",
     "text": [
      "The cosine distance between '사료 도매업' and '구조용 금속 판제품 및 공작물 제조업' is: 0.7381\n",
      "The Euclidean distance between '사료 도매업' and '구조용 금속 판제품 및 공작물 제조업' is: 1.2150\n"
     ]
    }
   ],
   "source": [
    "a = company_industries[0]\n",
    "b = company_industries[4]\n",
    "# a = \"겨울\"\n",
    "# b = \"춥다\"\n",
    "\n",
    "embed_a = embed_model.get_text_embedding(a)\n",
    "embed_b = embed_model.get_text_embedding(b)\n",
    "\n",
    "\n",
    "distance = cosine_distance(embed_a, embed_b)\n",
    "print(f\"The cosine distance between '{a}' and '{b}' is: {distance:.4f}\")\n",
    "\n",
    "distance2 = euclidean_distance(embed_a, embed_b)\n",
    "print(f\"The Euclidean distance between '{a}' and '{b}' is: {distance2:.4f}\")"
   ]
  },
  {
   "cell_type": "code",
   "execution_count": 69,
   "metadata": {},
   "outputs": [],
   "source": [
    "# 텍스트를 벡터로 변환\n",
    "company_industries_embeddings = embed_model.get_text_embedding_batch(company_industries)"
   ]
  },
  {
   "cell_type": "code",
   "execution_count": 70,
   "metadata": {},
   "outputs": [
    {
     "name": "stderr",
     "output_type": "stream",
     "text": [
      "/Users/heewungsong/anaconda3/envs/test/lib/python3.11/site-packages/sklearn/cluster/_kmeans.py:1412: FutureWarning: The default value of `n_init` will change from 10 to 'auto' in 1.4. Set the value of `n_init` explicitly to suppress the warning\n",
      "  super()._check_params_vs_input(X, default_n_init=10)\n",
      "huggingface/tokenizers: The current process just got forked, after parallelism has already been used. Disabling parallelism to avoid deadlocks...\n",
      "To disable this warning, you can either:\n",
      "\t- Avoid using `tokenizers` before the fork if possible\n",
      "\t- Explicitly set the environment variable TOKENIZERS_PARALLELISM=(true | false)\n"
     ]
    }
   ],
   "source": [
    "from sklearn.cluster import KMeans\n",
    "\n",
    "# KMeans 클러스터링\n",
    "kmeans = KMeans(n_clusters=8, random_state=42)\n",
    "labels = kmeans.fit_predict(company_industries_embeddings)\n",
    "\n",
    "# 결과를 데이터프레임에 추가\n",
    "# df['Cluster_8'] = labels"
   ]
  },
  {
   "cell_type": "code",
   "execution_count": null,
   "metadata": {},
   "outputs": [],
   "source": [
    "# 'Cluster_8' 열의 각 값별로 개수를 세어 반환합니다.\n",
    "labels.value_counts() \n",
    "\n",
    "\n",
    "\n",
    "# 클러스터 별 주요 산업 분야를 데이터프레임으로 구성\n",
    "all_clusters = []\n",
    "for cluster in sorted(labels.unique()):\n",
    "    # 클러스터 별 산업 빈도수 계산\n",
    "    cluster_data = df[labels == cluster]['CompanyIndustry'].value_counts().reset_index()\n",
    "    cluster_data.columns = ['CompanyIndustry', 'Count']\n",
    "    cluster_data['Cluster'] = cluster\n",
    "    all_clusters.append(cluster_data)\n",
    "\n",
    "# 모든 클러스터 데이터를 하나의 데이터프레임으로 합치기\n",
    "final_df = pd.concat(all_clusters).reset_index(drop=True)\n",
    "\n",
    "# 결과를 'Count' 컬럼 기준으로 내림차순 정렬\n",
    "final_df = final_df.sort_values(by='Count', ascending=False)\n",
    "# 클러스터 별로 정렬\n",
    "final_df = final_df.sort_values(by='Cluster', ascending=True)\n",
    "\n",
    "final_df"
   ]
  },
  {
   "cell_type": "code",
   "execution_count": 30,
   "metadata": {},
   "outputs": [],
   "source": [
    "from gensim.models import Word2Vec\n",
    "from sklearn.manifold import TSNE\n",
    "import matplotlib.pyplot as plt\n",
    "\n",
    "# 간단한 전처리: 쉼표, 공백 등을 기준으로 토크나이징\n",
    "# tokens = [industry.split() for industry in df['CompanyIndustry']]\n",
    "\n",
    "# Word2Vec 모델 훈련\n",
    "# model = Word2Vec(company_industries, vector_size=100, window=1, min_count=1, workers=4)\n",
    "\n",
    "# 각 산업명을 벡터로 변환\n",
    "# vectors = [model.wv[token] for token in company_industries]\n",
    "\n",
    "# t-SNE를 사용하여 시각화\n",
    "# tsne = TSNE(n_components=2, random_state=0)\n",
    "# vectors_tsne = tsne.fit_transform(vectors)\n",
    "# plt.figure(figsize=(6, 6))\n",
    "# for i, label in enumerate(company_industries):\n",
    "#     x, y = vectors_tsne[i, :]\n",
    "#     plt.scatter(x, y)\n",
    "#     plt.annotate(label, (x, y), textcoords=\"offset points\", xytext=(0,10), ha='center')\n",
    "# plt.show()"
   ]
  }
 ],
 "metadata": {
  "kernelspec": {
   "display_name": "visa_chatbot1",
   "language": "python",
   "name": "python3"
  },
  "language_info": {
   "codemirror_mode": {
    "name": "ipython",
    "version": 3
   },
   "file_extension": ".py",
   "mimetype": "text/x-python",
   "name": "python",
   "nbconvert_exporter": "python",
   "pygments_lexer": "ipython3",
   "version": "3.11.9"
  }
 },
 "nbformat": 4,
 "nbformat_minor": 2
}
