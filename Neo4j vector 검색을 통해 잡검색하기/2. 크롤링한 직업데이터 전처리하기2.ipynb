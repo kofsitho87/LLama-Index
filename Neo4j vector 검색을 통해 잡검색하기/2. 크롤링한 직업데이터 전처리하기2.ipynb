{
 "cells": [
  {
   "cell_type": "code",
   "execution_count": null,
   "metadata": {},
   "outputs": [],
   "source": [
    "new_order = [\n",
    "    'JobTitle', \n",
    "    'JobVolunteerExperience', 'RequiredExperienceMonths', 'PreferredExperienceMonths', \n",
    "    'JobVolunteerEducation', \n",
    "    'WeeklyWorkdays', 'Workdays',\n",
    "    'JobPayment', 'MinMonthlyPayment', 'MaxMonthlyPayment', \n",
    "    'JobContractType', 'JobEmploymentType', 'JobBenefits',\n",
    "    'CompanyName', 'CompanyIndustry', 'CompanySize', 'CompanyLocation'\n",
    "]\n",
    "\n",
    "# 열 순서를 재배치\n",
    "df = df[new_order]"
   ]
  }
 ],
 "metadata": {
  "language_info": {
   "name": "python"
  }
 },
 "nbformat": 4,
 "nbformat_minor": 2
}
